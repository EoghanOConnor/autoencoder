{
 "cells": [
  {
   "cell_type": "markdown",
   "metadata": {
    "id": "xYgfXFDhsXOs"
   },
   "source": [
    "## Author: Eoghan O'Connor"
   ]
  },
  {
   "cell_type": "markdown",
   "metadata": {
    "id": "PGjGasNMsXOy"
   },
   "source": [
    "## Anomaly Detection\n",
    "\n",
    "### Context\n",
    "We have a mystery dataset. There are 9 explanatory variables and one response variable. The response variable is the last column and indicates if the sample is anomalous (=1, valid =0). The dataset is provided \"data.csv\". \n",
    "\n",
    "Of course in this case we could use supervised learning to generate a model and detect anomalies in new data. However the focus is on autoencoders, anomaly detection is just one of the potential uses for autoencoders.\n",
    "\n",
    "So we are going to pretend that we do not know which data are anomalous but we do know that the anomaly rate is small.An autoencoder is used to detect anomalies in the data. The correctness of the model can of course be checked."
   ]
  },
  {
   "cell_type": "markdown",
   "metadata": {
    "id": "KzGwqG8msXO2"
   },
   "source": [
    "## Problem\n",
    "\n",
    "If you train even a modest feed forward network via supervised learning you can get extremely good recall and precision, despite the unbalanced dataset. However in this project, the anomalies are determined by using an autoencoder. This **not** using the Anom flag to guide the training."
   ]
  },
  {
   "cell_type": "markdown",
   "metadata": {
    "id": "XRKH1KzPsXO1"
   },
   "source": [
    "## Steps taken\n",
    "\n",
    "**1st **: Data pre-processing for this unsupervised learning model is performed.\n",
    "\n",
    "**2nd **: Training the model to convergence with a suitable topology and 2 encoded variables.\n",
    "\n",
    "**3rd **: Selecting and explain choice of threshold for determining the anomalous data.\n",
    "\n",
    "**4th **: implementing a suitable VAE with correct testing."
   ]
  },
  {
   "cell_type": "code",
   "execution_count": 1,
   "metadata": {
    "id": "VZTgnw3PsXO3"
   },
   "outputs": [],
   "source": [
    "from __future__ import absolute_import\n",
    "from __future__ import division\n",
    "from __future__ import print_function\n",
    "\n",
    "# Load the module we need\n",
    "# Note that we are import the Keras backend, which is assumed to be Tensorflow\n",
    "from tensorflow.keras.layers import Input, Dense, Flatten, Lambda, Reshape\n",
    "from tensorflow.keras.models import Model\n",
    "from tensorflow.keras.callbacks import History, EarlyStopping\n",
    "from keras.optimizers import Adam\n",
    "from keras.initializers import he_normal\n",
    "from keras import backend as K\n",
    "from keras.layers import Dropout\n",
    "from sklearn.metrics import confusion_matrix, classification_report\n",
    "import numpy as np\n",
    "import seaborn as sns\n",
    "\n",
    "import matplotlib.pyplot as plt\n",
    "from tensorflow.keras.losses import mean_squared_error, binary_crossentropy, mse, KLDivergence, mean_absolute_error, mae\n",
    "from tensorflow.keras.utils import plot_model\n",
    "\n",
    "import tensorflow as tf\n",
    "import os"
   ]
  },
  {
   "cell_type": "code",
   "execution_count": 2,
   "metadata": {
    "colab": {
     "base_uri": "https://localhost:8080/",
     "height": 73
    },
    "id": "VvFo1Wvws9DA",
    "outputId": "0adbdcb7-6919-4d73-d8ec-36767c2248b6"
   },
   "outputs": [],
   "source": [
    "# from google.colab import files\n",
    "# uploaded = files.upload()"
   ]
  },
  {
   "cell_type": "code",
   "execution_count": 3,
   "metadata": {
    "id": "jRvQxSWqsXO6"
   },
   "outputs": [],
   "source": [
    "import pandas as pd\n",
    "from sklearn.model_selection import train_test_split\n",
    "from sklearn.preprocessing import MinMaxScaler"
   ]
  },
  {
   "cell_type": "markdown",
   "metadata": {
    "id": "P8-AHZ_RsXO7"
   },
   "source": [
    "**Task 1: data preprocessing**\n",
    "\n",
    "Explain any preprocessing steps you take and also how you have selected the training and test sets. Remember we do not know which samples are anomalous only that there are a small number of them compared to the total sample size.\n"
   ]
  },
  {
   "cell_type": "markdown",
   "metadata": {
    "id": "HDeAj9QC-SWN"
   },
   "source": [
    "## **Notes**\n",
    "For Processing, <br>\n",
    "The data is displayed and examined.\n",
    "No NaN or Null values in dataset so the data is prepped for splitting. <br>\n",
    "Rescaled using MinMaxScalar to return values between 0-1. <br>\n",
    "After the data is split randomly. The Anom class is stored for analysis <br>\n",
    "later in the confusion matrix and classification report."
   ]
  },
  {
   "cell_type": "code",
   "execution_count": 4,
   "metadata": {
    "colab": {
     "base_uri": "https://localhost:8080/"
    },
    "id": "IuDD9hmzsXO8",
    "outputId": "bb405353-3d85-473e-a38e-15b24ff9e30a"
   },
   "outputs": [
    {
     "name": "stdout",
     "output_type": "stream",
     "text": [
      "   V1  V2  V3  V4  V5  V6  V7  V8  V9  Anom\n",
      "0  50  21  77   0  28   0  27  48  22     1\n",
      "1  53   0  82   0  52  -5  29  30   2     0\n",
      "2  37   0  76   0  28  18  40  48   8     0\n",
      "3  37   0  79   0  34 -26  43  46   2     0\n",
      "4  85   0  88  -4   6   1   3  83  80     1\n"
     ]
    }
   ],
   "source": [
    "# Checking data\n",
    "df = pd.read_csv(\"data.csv\")\n",
    "print(df.head())"
   ]
  },
  {
   "cell_type": "code",
   "execution_count": 5,
   "metadata": {
    "colab": {
     "base_uri": "https://localhost:8080/"
    },
    "id": "t8BrXLuZsXO9",
    "outputId": "e2deef72-bacf-453b-9a6c-5eac863f6638"
   },
   "outputs": [
    {
     "data": {
      "text/plain": [
       "Index(['V1', 'V2', 'V3', 'V4', 'V5', 'V6', 'V7', 'V8', 'V9', 'Anom'], dtype='object')"
      ]
     },
     "execution_count": 5,
     "metadata": {},
     "output_type": "execute_result"
    }
   ],
   "source": [
    "#checking that there arent any hidden columns\n",
    "df.columns"
   ]
  },
  {
   "cell_type": "code",
   "execution_count": 6,
   "metadata": {
    "colab": {
     "base_uri": "https://localhost:8080/"
    },
    "id": "p0sXub68sXO-",
    "outputId": "ba7d42d1-8ff4-4a65-fbdf-894163dbc058"
   },
   "outputs": [
    {
     "data": {
      "text/plain": [
       "V1      0\n",
       "V2      0\n",
       "V3      0\n",
       "V4      0\n",
       "V5      0\n",
       "V6      0\n",
       "V7      0\n",
       "V8      0\n",
       "V9      0\n",
       "Anom    0\n",
       "dtype: int64"
      ]
     },
     "execution_count": 6,
     "metadata": {},
     "output_type": "execute_result"
    }
   ],
   "source": [
    "#No null values found\n",
    "df.isna().sum()"
   ]
  },
  {
   "cell_type": "code",
   "execution_count": 7,
   "metadata": {
    "colab": {
     "base_uri": "https://localhost:8080/",
     "height": 300
    },
    "id": "FR0ERphesXO-",
    "outputId": "699d667f-e2be-42df-8cb1-2bda72dd6c9b"
   },
   "outputs": [
    {
     "data": {
      "text/html": [
       "<div>\n",
       "<style scoped>\n",
       "    .dataframe tbody tr th:only-of-type {\n",
       "        vertical-align: middle;\n",
       "    }\n",
       "\n",
       "    .dataframe tbody tr th {\n",
       "        vertical-align: top;\n",
       "    }\n",
       "\n",
       "    .dataframe thead th {\n",
       "        text-align: right;\n",
       "    }\n",
       "</style>\n",
       "<table border=\"1\" class=\"dataframe\">\n",
       "  <thead>\n",
       "    <tr style=\"text-align: right;\">\n",
       "      <th></th>\n",
       "      <th>V1</th>\n",
       "      <th>V2</th>\n",
       "      <th>V3</th>\n",
       "      <th>V4</th>\n",
       "      <th>V5</th>\n",
       "      <th>V6</th>\n",
       "      <th>V7</th>\n",
       "      <th>V8</th>\n",
       "      <th>V9</th>\n",
       "      <th>Anom</th>\n",
       "    </tr>\n",
       "  </thead>\n",
       "  <tbody>\n",
       "    <tr>\n",
       "      <th>count</th>\n",
       "      <td>49097.000000</td>\n",
       "      <td>49097.000000</td>\n",
       "      <td>49097.000000</td>\n",
       "      <td>49097.000000</td>\n",
       "      <td>49097.000000</td>\n",
       "      <td>49097.000000</td>\n",
       "      <td>49097.000000</td>\n",
       "      <td>49097.000000</td>\n",
       "      <td>49097.000000</td>\n",
       "      <td>49097.000000</td>\n",
       "    </tr>\n",
       "    <tr>\n",
       "      <th>mean</th>\n",
       "      <td>46.932399</td>\n",
       "      <td>-0.063955</td>\n",
       "      <td>85.123124</td>\n",
       "      <td>0.213231</td>\n",
       "      <td>36.871784</td>\n",
       "      <td>2.160030</td>\n",
       "      <td>38.200725</td>\n",
       "      <td>48.288592</td>\n",
       "      <td>10.261930</td>\n",
       "      <td>0.071511</td>\n",
       "    </tr>\n",
       "    <tr>\n",
       "      <th>std</th>\n",
       "      <td>12.875159</td>\n",
       "      <td>84.674481</td>\n",
       "      <td>8.877517</td>\n",
       "      <td>37.579171</td>\n",
       "      <td>19.963113</td>\n",
       "      <td>218.324964</td>\n",
       "      <td>13.446306</td>\n",
       "      <td>20.572064</td>\n",
       "      <td>23.751024</td>\n",
       "      <td>0.257680</td>\n",
       "    </tr>\n",
       "    <tr>\n",
       "      <th>min</th>\n",
       "      <td>27.000000</td>\n",
       "      <td>-4821.000000</td>\n",
       "      <td>21.000000</td>\n",
       "      <td>-3939.000000</td>\n",
       "      <td>-188.000000</td>\n",
       "      <td>-26739.000000</td>\n",
       "      <td>-48.000000</td>\n",
       "      <td>-353.000000</td>\n",
       "      <td>-356.000000</td>\n",
       "      <td>0.000000</td>\n",
       "    </tr>\n",
       "    <tr>\n",
       "      <th>25%</th>\n",
       "      <td>37.000000</td>\n",
       "      <td>0.000000</td>\n",
       "      <td>79.000000</td>\n",
       "      <td>0.000000</td>\n",
       "      <td>30.000000</td>\n",
       "      <td>-4.000000</td>\n",
       "      <td>33.000000</td>\n",
       "      <td>35.000000</td>\n",
       "      <td>0.000000</td>\n",
       "      <td>0.000000</td>\n",
       "    </tr>\n",
       "    <tr>\n",
       "      <th>50%</th>\n",
       "      <td>44.000000</td>\n",
       "      <td>0.000000</td>\n",
       "      <td>83.000000</td>\n",
       "      <td>0.000000</td>\n",
       "      <td>42.000000</td>\n",
       "      <td>0.000000</td>\n",
       "      <td>39.000000</td>\n",
       "      <td>41.000000</td>\n",
       "      <td>2.000000</td>\n",
       "      <td>0.000000</td>\n",
       "    </tr>\n",
       "    <tr>\n",
       "      <th>75%</th>\n",
       "      <td>50.000000</td>\n",
       "      <td>0.000000</td>\n",
       "      <td>88.000000</td>\n",
       "      <td>0.000000</td>\n",
       "      <td>46.000000</td>\n",
       "      <td>5.000000</td>\n",
       "      <td>43.000000</td>\n",
       "      <td>55.000000</td>\n",
       "      <td>6.000000</td>\n",
       "      <td>0.000000</td>\n",
       "    </tr>\n",
       "    <tr>\n",
       "      <th>max</th>\n",
       "      <td>126.000000</td>\n",
       "      <td>5075.000000</td>\n",
       "      <td>149.000000</td>\n",
       "      <td>3830.000000</td>\n",
       "      <td>436.000000</td>\n",
       "      <td>15164.000000</td>\n",
       "      <td>105.000000</td>\n",
       "      <td>270.000000</td>\n",
       "      <td>266.000000</td>\n",
       "      <td>1.000000</td>\n",
       "    </tr>\n",
       "  </tbody>\n",
       "</table>\n",
       "</div>"
      ],
      "text/plain": [
       "                 V1            V2            V3            V4            V5  \\\n",
       "count  49097.000000  49097.000000  49097.000000  49097.000000  49097.000000   \n",
       "mean      46.932399     -0.063955     85.123124      0.213231     36.871784   \n",
       "std       12.875159     84.674481      8.877517     37.579171     19.963113   \n",
       "min       27.000000  -4821.000000     21.000000  -3939.000000   -188.000000   \n",
       "25%       37.000000      0.000000     79.000000      0.000000     30.000000   \n",
       "50%       44.000000      0.000000     83.000000      0.000000     42.000000   \n",
       "75%       50.000000      0.000000     88.000000      0.000000     46.000000   \n",
       "max      126.000000   5075.000000    149.000000   3830.000000    436.000000   \n",
       "\n",
       "                 V6            V7            V8            V9          Anom  \n",
       "count  49097.000000  49097.000000  49097.000000  49097.000000  49097.000000  \n",
       "mean       2.160030     38.200725     48.288592     10.261930      0.071511  \n",
       "std      218.324964     13.446306     20.572064     23.751024      0.257680  \n",
       "min   -26739.000000    -48.000000   -353.000000   -356.000000      0.000000  \n",
       "25%       -4.000000     33.000000     35.000000      0.000000      0.000000  \n",
       "50%        0.000000     39.000000     41.000000      2.000000      0.000000  \n",
       "75%        5.000000     43.000000     55.000000      6.000000      0.000000  \n",
       "max    15164.000000    105.000000    270.000000    266.000000      1.000000  "
      ]
     },
     "execution_count": 7,
     "metadata": {},
     "output_type": "execute_result"
    }
   ],
   "source": [
    "# Values vary from -negative to +positive values Scalar\n",
    "df.describe()"
   ]
  },
  {
   "cell_type": "code",
   "execution_count": 8,
   "metadata": {
    "id": "pZWT91MXvDeF"
   },
   "outputs": [],
   "source": [
    "# Initialize the scaler\n",
    "scaler = MinMaxScaler()\n",
    "\n",
    "# Transform the data\n",
    "df_scaled = pd.DataFrame(scaler.fit_transform(df), columns=df.columns)"
   ]
  },
  {
   "cell_type": "code",
   "execution_count": 9,
   "metadata": {
    "colab": {
     "base_uri": "https://localhost:8080/",
     "height": 206
    },
    "id": "-RSt6O_00iB8",
    "outputId": "8ebd9eab-f8f1-47d7-b832-7f7693f61448"
   },
   "outputs": [
    {
     "data": {
      "text/html": [
       "<div>\n",
       "<style scoped>\n",
       "    .dataframe tbody tr th:only-of-type {\n",
       "        vertical-align: middle;\n",
       "    }\n",
       "\n",
       "    .dataframe tbody tr th {\n",
       "        vertical-align: top;\n",
       "    }\n",
       "\n",
       "    .dataframe thead th {\n",
       "        text-align: right;\n",
       "    }\n",
       "</style>\n",
       "<table border=\"1\" class=\"dataframe\">\n",
       "  <thead>\n",
       "    <tr style=\"text-align: right;\">\n",
       "      <th></th>\n",
       "      <th>V1</th>\n",
       "      <th>V2</th>\n",
       "      <th>V3</th>\n",
       "      <th>V4</th>\n",
       "      <th>V5</th>\n",
       "      <th>V6</th>\n",
       "      <th>V7</th>\n",
       "      <th>V8</th>\n",
       "      <th>V9</th>\n",
       "      <th>Anom</th>\n",
       "    </tr>\n",
       "  </thead>\n",
       "  <tbody>\n",
       "    <tr>\n",
       "      <th>0</th>\n",
       "      <td>0.232323</td>\n",
       "      <td>0.489289</td>\n",
       "      <td>0.437500</td>\n",
       "      <td>0.507015</td>\n",
       "      <td>0.346154</td>\n",
       "      <td>0.638117</td>\n",
       "      <td>0.490196</td>\n",
       "      <td>0.643660</td>\n",
       "      <td>0.607717</td>\n",
       "      <td>1.0</td>\n",
       "    </tr>\n",
       "    <tr>\n",
       "      <th>1</th>\n",
       "      <td>0.262626</td>\n",
       "      <td>0.487167</td>\n",
       "      <td>0.476562</td>\n",
       "      <td>0.507015</td>\n",
       "      <td>0.384615</td>\n",
       "      <td>0.637997</td>\n",
       "      <td>0.503268</td>\n",
       "      <td>0.614767</td>\n",
       "      <td>0.575563</td>\n",
       "      <td>0.0</td>\n",
       "    </tr>\n",
       "    <tr>\n",
       "      <th>2</th>\n",
       "      <td>0.101010</td>\n",
       "      <td>0.487167</td>\n",
       "      <td>0.429688</td>\n",
       "      <td>0.507015</td>\n",
       "      <td>0.346154</td>\n",
       "      <td>0.638546</td>\n",
       "      <td>0.575163</td>\n",
       "      <td>0.643660</td>\n",
       "      <td>0.585209</td>\n",
       "      <td>0.0</td>\n",
       "    </tr>\n",
       "    <tr>\n",
       "      <th>3</th>\n",
       "      <td>0.101010</td>\n",
       "      <td>0.487167</td>\n",
       "      <td>0.453125</td>\n",
       "      <td>0.507015</td>\n",
       "      <td>0.355769</td>\n",
       "      <td>0.637496</td>\n",
       "      <td>0.594771</td>\n",
       "      <td>0.640449</td>\n",
       "      <td>0.575563</td>\n",
       "      <td>0.0</td>\n",
       "    </tr>\n",
       "    <tr>\n",
       "      <th>4</th>\n",
       "      <td>0.585859</td>\n",
       "      <td>0.487167</td>\n",
       "      <td>0.523438</td>\n",
       "      <td>0.506500</td>\n",
       "      <td>0.310897</td>\n",
       "      <td>0.638140</td>\n",
       "      <td>0.333333</td>\n",
       "      <td>0.699839</td>\n",
       "      <td>0.700965</td>\n",
       "      <td>1.0</td>\n",
       "    </tr>\n",
       "  </tbody>\n",
       "</table>\n",
       "</div>"
      ],
      "text/plain": [
       "         V1        V2        V3        V4        V5        V6        V7  \\\n",
       "0  0.232323  0.489289  0.437500  0.507015  0.346154  0.638117  0.490196   \n",
       "1  0.262626  0.487167  0.476562  0.507015  0.384615  0.637997  0.503268   \n",
       "2  0.101010  0.487167  0.429688  0.507015  0.346154  0.638546  0.575163   \n",
       "3  0.101010  0.487167  0.453125  0.507015  0.355769  0.637496  0.594771   \n",
       "4  0.585859  0.487167  0.523438  0.506500  0.310897  0.638140  0.333333   \n",
       "\n",
       "         V8        V9  Anom  \n",
       "0  0.643660  0.607717   1.0  \n",
       "1  0.614767  0.575563   0.0  \n",
       "2  0.643660  0.585209   0.0  \n",
       "3  0.640449  0.575563   0.0  \n",
       "4  0.699839  0.700965   1.0  "
      ]
     },
     "execution_count": 9,
     "metadata": {},
     "output_type": "execute_result"
    }
   ],
   "source": [
    "#Inspecting scaled values\n",
    "df_scaled.head()"
   ]
  },
  {
   "cell_type": "code",
   "execution_count": 10,
   "metadata": {
    "colab": {
     "base_uri": "https://localhost:8080/",
     "height": 265
    },
    "id": "RxY9YR3rnGv3",
    "outputId": "3515edea-d858-424f-e925-317d6747e9b6"
   },
   "outputs": [
    {
     "data": {
      "image/png": "[encoded data removed]",
      "text/plain": [
       "<Figure size 640x480 with 1 Axes>"
      ]
     },
     "metadata": {},
     "output_type": "display_data"
    }
   ],
   "source": [
    "#Checking that scaled values have retained outliers.\n",
    "df_scaled.boxplot(column=['V1','V3','V5','V7','V8','V9'])\n",
    "plt.show()"
   ]
  },
  {
   "cell_type": "code",
   "execution_count": 11,
   "metadata": {
    "id": "23jlB2Bw0Kj5"
   },
   "outputs": [],
   "source": [
    "# Assign the features and labels\n",
    "X = df_scaled.iloc[:, :-1]  # select all rows and all columns except the last one\n",
    "y = df_scaled.iloc[:, -1]   # select all rows and the last column\n",
    "\n",
    "# Split the data y values stored for analysis after training.\n",
    "X_train, X_test, y_train, y_test = train_test_split(X, y, test_size=0.2, random_state=42)"
   ]
  },
  {
   "cell_type": "markdown",
   "metadata": {
    "id": "uNoIEUzssXPA"
   },
   "source": [
    "**Task 2: model generation and training**\n"
   ]
  },
  {
   "cell_type": "markdown",
   "metadata": {
    "id": "YB-XVRXd3XLf"
   },
   "source": [
    "## **Notes**\n",
    "**Model**<br>\n",
    "Below the Autoencoder has 7 layers for the encoder and 7 for the decoder. They<br> arent sysmmetrical, no gain found in using sysmetrical models.<br>\n",
    "A mixture of dense and dropout layers.\n",
    "<br>\n",
    "<br>\n",
    "**Dense layers** were used as the data was Tabular rather than spatial <br>(Conv are ideal for spatial)<br>\n",
    "<br>\n",
    "**Relu** was used throughout the model bar the last layer in the decoder. Relu <br>reduces the dimensionality of the input data to a latent space of 2, and <br>helps the encoder learn a compressed representation of the data by setting<br> negative values to 0.\n",
    "<br>\n",
    "<br>\n",
    "To reconstruct the input data a **linear activation** function was used in the <br>final layer of the decoder. The input data had a wide range of values and a <br> linear activation allows for this.<br> <br>\n",
    "\n",
    "\n",
    "**Prevent local minimas and overfitting**\n",
    "<br>\n",
    "**The dropout layer** prevented the model overfitting and falling into local <br>minimas which the model was previously plagued by for certain random datasets. <br> <br>\n",
    "**Kernel initilizer** He_normal helps break sysmmetry and start the model in a <br>good loss region. This made the model more robust to the randomness of the <br> data split. Getting a recall, precision and f1 score for the anomalies <br>between .8 to .96 while previously it could drop to .3.\n",
    "<br>"
   ]
  },
  {
   "cell_type": "code",
   "execution_count": 12,
   "metadata": {
    "colab": {
     "base_uri": "https://localhost:8080/"
    },
    "id": "4At-xJ1U03WG",
    "outputId": "13e072ff-7960-4c53-c6fb-2f587f494b0a"
   },
   "outputs": [
    {
     "name": "stdout",
     "output_type": "stream",
     "text": [
      "Model: \"encoded\"\n",
      "_________________________________________________________________\n",
      " Layer (type)                Output Shape              Param #   \n",
      "=================================================================\n",
      " input_1 (InputLayer)        [(None, 9)]               0         \n",
      "                                                                 \n",
      " dense (Dense)               (None, 32)                320       \n",
      "                                                                 \n",
      " dropout (Dropout)           (None, 32)                0         \n",
      "                                                                 \n",
      " dense_1 (Dense)             (None, 16)                528       \n",
      "                                                                 \n",
      " dropout_1 (Dropout)         (None, 16)                0         \n",
      "                                                                 \n",
      " dense_2 (Dense)             (None, 8)                 136       \n",
      "                                                                 \n",
      " dropout_2 (Dropout)         (None, 8)                 0         \n",
      "                                                                 \n",
      " dense_3 (Dense)             (None, 2)                 18        \n",
      "                                                                 \n",
      "=================================================================\n",
      "Total params: 1,002\n",
      "Trainable params: 1,002\n",
      "Non-trainable params: 0\n",
      "_________________________________________________________________\n",
      "Model: \"decoded\"\n",
      "_________________________________________________________________\n",
      " Layer (type)                Output Shape              Param #   \n",
      "=================================================================\n",
      " input_2 (InputLayer)        [(None, 2)]               0         \n",
      "                                                                 \n",
      " dense_4 (Dense)             (None, 32)                96        \n",
      "                                                                 \n",
      " dropout_3 (Dropout)         (None, 32)                0         \n",
      "                                                                 \n",
      " dense_5 (Dense)             (None, 32)                1056      \n",
      "                                                                 \n",
      " dropout_4 (Dropout)         (None, 32)                0         \n",
      "                                                                 \n",
      " dense_6 (Dense)             (None, 16)                528       \n",
      "                                                                 \n",
      " dropout_5 (Dropout)         (None, 16)                0         \n",
      "                                                                 \n",
      " dense_7 (Dense)             (None, 9)                 153       \n",
      "                                                                 \n",
      "=================================================================\n",
      "Total params: 1,833\n",
      "Trainable params: 1,833\n",
      "Non-trainable params: 0\n",
      "_________________________________________________________________\n",
      "Model: \"model\"\n",
      "__________________________________________________________________________________________________\n",
      " Layer (type)                   Output Shape         Param #     Connected to                     \n",
      "==================================================================================================\n",
      " input_1 (InputLayer)           [(None, 9)]          0           []                               \n",
      "                                                                                                  \n",
      " encoded (Functional)           (None, 2)            1002        ['input_1[0][0]']                \n",
      "                                                                                                  \n",
      " decoded (Functional)           (None, 9)            1833        ['encoded[0][0]']                \n",
      "                                                                                                  \n",
      " tf.convert_to_tensor (TFOpLamb  (None, 9)           0           ['decoded[0][0]']                \n",
      " da)                                                                                              \n",
      "                                                                                                  \n",
      " tf.cast (TFOpLambda)           (None, 9)            0           ['input_1[0][0]']                \n",
      "                                                                                                  \n",
      " tf.math.squared_difference (TF  (None, 9)           0           ['tf.convert_to_tensor[0][0]',   \n",
      " OpLambda)                                                        'tf.cast[0][0]']                \n",
      "                                                                                                  \n",
      " tf.math.reduce_mean (TFOpLambd  (None,)             0           ['tf.math.squared_difference[0][0\n",
      " a)                                                              ]']                              \n",
      "                                                                                                  \n",
      " tf.math.multiply (TFOpLambda)  (None,)              0           ['tf.math.reduce_mean[0][0]']    \n",
      "                                                                                                  \n",
      " tf.math.reduce_sum (TFOpLambda  ()                  0           ['tf.math.multiply[0][0]']       \n",
      " )                                                                                                \n",
      "                                                                                                  \n",
      " tf.compat.v1.size (TFOpLambda)  ()                  0           ['tf.math.multiply[0][0]']       \n",
      "                                                                                                  \n",
      " tf.math.reduce_sum_1 (TFOpLamb  ()                  0           ['tf.math.reduce_sum[0][0]']     \n",
      " da)                                                                                              \n",
      "                                                                                                  \n",
      " tf.cast_1 (TFOpLambda)         ()                   0           ['tf.compat.v1.size[0][0]']      \n",
      "                                                                                                  \n",
      " tf.math.divide_no_nan (TFOpLam  ()                  0           ['tf.math.reduce_sum_1[0][0]',   \n",
      " bda)                                                             'tf.cast_1[0][0]']              \n",
      "                                                                                                  \n",
      " add_loss (AddLoss)             ()                   0           ['tf.math.divide_no_nan[0][0]']  \n",
      "                                                                                                  \n",
      "==================================================================================================\n",
      "Total params: 2,835\n",
      "Trainable params: 2,835\n",
      "Non-trainable params: 0\n",
      "__________________________________________________________________________________________________\n"
     ]
    }
   ],
   "source": [
    "# Define the Encoder\n",
    "encoder_input = Input(shape=(X_train.shape[1],))  \n",
    "\n",
    "x = Dense(32, activation='relu',kernel_initializer='he_normal')(encoder_input)\n",
    "x = Dropout(.2)(x)\n",
    "x = Dense(16, activation='relu', kernel_initializer='he_normal')(x)\n",
    "x = Dropout(.2)(x)\n",
    "x = Dense(8, activation='relu', kernel_initializer='he_normal')(x)\n",
    "x = Dropout(.2)(x)\n",
    "latent = Dense(2,activation='relu', kernel_initializer='he_normal')(x)\n",
    "\n",
    "encoded = Model(encoder_input,latent,name='encoded')\n",
    "encoded.summary()\n",
    "\n",
    "# This is the decoder\n",
    "x = Dense(32,activation='relu',kernel_initializer='he_normal')(latent)\n",
    "x = Dropout(.2)(x)\n",
    "x = Dense(32,activation='relu',kernel_initializer='he_normal')(x)\n",
    "x = Dropout(.2)(x)\n",
    "x = Dense(16,activation='relu',kernel_initializer='he_normal')(x)\n",
    "x = Dropout(.2)(x)\n",
    "rec = Dense(9,activation='linear',kernel_initializer='he_normal')(x)\n",
    "\n",
    "decoded = Model(latent,rec,name='decoded')\n",
    "decoded.summary()\n",
    "\n",
    "decoder_output = decoded(encoded(encoder_input))\n",
    "#Autoencoder Model\n",
    "autoencoder = Model(encoder_input,decoder_output)\n",
    "#Reconstruction loss using Mean squared error of input and decoded output\n",
    "reconstruction_loss = tf.keras.losses.MeanSquaredError()(encoder_input, decoder_output)\n",
    "autoencoder.add_loss(reconstruction_loss)\n",
    "autoencoder.compile(optimizer='adam')\n",
    "autoencoder.summary()"
   ]
  },
  {
   "cell_type": "code",
   "execution_count": 13,
   "metadata": {
    "colab": {
     "base_uri": "https://localhost:8080/"
    },
    "id": "rus5SlEoCJut",
    "outputId": "3f84ead6-ccd9-49da-9dfe-3a72732948ed"
   },
   "outputs": [
    {
     "name": "stdout",
     "output_type": "stream",
     "text": [
      "Epoch 1/400\n",
      "307/307 [==============================] - 2s 4ms/step - loss: 0.0508 - val_loss: 0.0043\n",
      "Epoch 2/400\n",
      "307/307 [==============================] - 1s 3ms/step - loss: 0.0118 - val_loss: 0.0041\n",
      "Epoch 3/400\n",
      "307/307 [==============================] - 1s 3ms/step - loss: 0.0087 - val_loss: 0.0039\n",
      "Epoch 4/400\n",
      "307/307 [==============================] - 1s 3ms/step - loss: 0.0071 - val_loss: 0.0039\n",
      "Epoch 5/400\n",
      "307/307 [==============================] - 1s 3ms/step - loss: 0.0060 - val_loss: 0.0038\n",
      "Epoch 6/400\n",
      "307/307 [==============================] - 1s 3ms/step - loss: 0.0053 - val_loss: 0.0038\n",
      "Epoch 7/400\n",
      "307/307 [==============================] - 1s 3ms/step - loss: 0.0047 - val_loss: 0.0038\n",
      "Epoch 8/400\n",
      "307/307 [==============================] - 1s 3ms/step - loss: 0.0044 - val_loss: 0.0038\n",
      "Epoch 9/400\n",
      "307/307 [==============================] - 1s 3ms/step - loss: 0.0041 - val_loss: 0.0037\n",
      "Epoch 10/400\n",
      "307/307 [==============================] - 1s 3ms/step - loss: 0.0039 - val_loss: 0.0037\n",
      "Epoch 11/400\n",
      "307/307 [==============================] - 1s 3ms/step - loss: 0.0038 - val_loss: 0.0037\n",
      "Epoch 12/400\n",
      "307/307 [==============================] - 1s 3ms/step - loss: 0.0037 - val_loss: 0.0037\n",
      "Epoch 13/400\n",
      "307/307 [==============================] - 1s 3ms/step - loss: 0.0037 - val_loss: 0.0037\n",
      "Epoch 14/400\n",
      "307/307 [==============================] - 1s 3ms/step - loss: 0.0037 - val_loss: 0.0037\n",
      "Epoch 15/400\n",
      "307/307 [==============================] - 1s 3ms/step - loss: 0.0037 - val_loss: 0.0037\n",
      "Epoch 16/400\n",
      "307/307 [==============================] - 1s 3ms/step - loss: 0.0037 - val_loss: 0.0037\n",
      "Epoch 17/400\n",
      "307/307 [==============================] - 1s 3ms/step - loss: 0.0037 - val_loss: 0.0037\n",
      "Epoch 18/400\n",
      "307/307 [==============================] - 1s 3ms/step - loss: 0.0037 - val_loss: 0.0037\n",
      "Epoch 19/400\n",
      "307/307 [==============================] - 1s 3ms/step - loss: 0.0037 - val_loss: 0.0037\n",
      "Epoch 20/400\n",
      "307/307 [==============================] - 1s 3ms/step - loss: 0.0037 - val_loss: 0.0037\n",
      "Epoch 21/400\n",
      "307/307 [==============================] - 1s 4ms/step - loss: 0.0037 - val_loss: 0.0037\n",
      "Epoch 22/400\n",
      "307/307 [==============================] - 1s 4ms/step - loss: 0.0037 - val_loss: 0.0037\n",
      "Epoch 23/400\n",
      "307/307 [==============================] - 1s 4ms/step - loss: 0.0037 - val_loss: 0.0037\n",
      "Epoch 24/400\n",
      "307/307 [==============================] - 1s 3ms/step - loss: 0.0037 - val_loss: 0.0037\n",
      "Epoch 25/400\n",
      "307/307 [==============================] - 1s 3ms/step - loss: 0.0037 - val_loss: 0.0037\n",
      "Epoch 26/400\n",
      "307/307 [==============================] - 1s 3ms/step - loss: 0.0037 - val_loss: 0.0037\n",
      "Epoch 27/400\n",
      "307/307 [==============================] - 1s 4ms/step - loss: 0.0037 - val_loss: 0.0037\n",
      "Epoch 28/400\n",
      "307/307 [==============================] - 1s 4ms/step - loss: 0.0037 - val_loss: 0.0037\n",
      "Epoch 29/400\n",
      "307/307 [==============================] - 1s 4ms/step - loss: 0.0037 - val_loss: 0.0037\n",
      "Epoch 30/400\n",
      "307/307 [==============================] - 1s 4ms/step - loss: 0.0037 - val_loss: 0.0037\n",
      "Epoch 31/400\n",
      "307/307 [==============================] - 1s 5ms/step - loss: 0.0037 - val_loss: 0.0037\n",
      "Epoch 32/400\n",
      "307/307 [==============================] - 1s 4ms/step - loss: 0.0037 - val_loss: 0.0037\n",
      "Epoch 33/400\n",
      "307/307 [==============================] - 1s 4ms/step - loss: 0.0037 - val_loss: 0.0037\n",
      "Epoch 34/400\n",
      "307/307 [==============================] - 1s 4ms/step - loss: 0.0037 - val_loss: 0.0037\n",
      "Epoch 35/400\n",
      "307/307 [==============================] - 1s 4ms/step - loss: 0.0037 - val_loss: 0.0037\n",
      "Epoch 36/400\n",
      "307/307 [==============================] - 1s 3ms/step - loss: 0.0037 - val_loss: 0.0037\n",
      "Epoch 37/400\n",
      "307/307 [==============================] - 1s 3ms/step - loss: 0.0037 - val_loss: 0.0037\n",
      "Epoch 38/400\n",
      "307/307 [==============================] - 1s 3ms/step - loss: 0.0037 - val_loss: 0.0037\n",
      "Epoch 39/400\n",
      "307/307 [==============================] - 1s 3ms/step - loss: 0.0037 - val_loss: 0.0037\n",
      "Epoch 40/400\n",
      "307/307 [==============================] - 1s 3ms/step - loss: 0.0037 - val_loss: 0.0037\n",
      "Epoch 41/400\n",
      "307/307 [==============================] - 1s 3ms/step - loss: 0.0037 - val_loss: 0.0037\n"
     ]
    }
   ],
   "source": [
    "#early stop function\n",
    "early_stopping = EarlyStopping(monitor='val_loss', patience=20, restore_best_weights=True)\n",
    "\n",
    "# Train the model, this can take some time\n",
    "history = autoencoder.fit(X_train, X_train,\n",
    "                epochs=400,\n",
    "                batch_size=128,\n",
    "                shuffle=True,\n",
    "                validation_data=(X_test, X_test),\n",
    "                callbacks=[early_stopping])\n",
    "\n",
    "#Array of loss values\n",
    "loss_values = history.history['loss']"
   ]
  },
  {
   "cell_type": "markdown",
   "metadata": {
    "id": "U9C2kqNQsXPA"
   },
   "source": [
    "**Task 3: anomaly detection**"
   ]
  },
  {
   "cell_type": "code",
   "execution_count": 14,
   "metadata": {
    "id": "Rle7brrTF8Du"
   },
   "outputs": [],
   "source": [
    "def show_predictions( Model, X, y , Anom_rate = .07):\n",
    "  '''\n",
    "  Description: Calculates MSE of the predicted and true values given.\n",
    "              Calculates the threshold using the MSE and given anomaly rate.\n",
    "              The cutoff loss for anomalies is plotted with the\n",
    "              calculated MSE losses.\n",
    "              Finally the predicted anomaly values are returned.\n",
    "\n",
    "  '''\n",
    "  # calculate predictions from our AutoEncoder model for the training dataset\n",
    "  predictions = Model.predict(X)\n",
    "  # calculate the mean squared error for each sample\n",
    "  mse = ((X - predictions) ** 2).mean(axis=1)\n",
    "  # sort the mse in descending order\n",
    "  mse_sorted = sorted(mse, reverse=True)\n",
    "  # calculate the index of the threshold value\n",
    "  threshold_index = int(len(mse_sorted) * 0.07)\n",
    "\n",
    "  # set the threshold to the value at the threshold index\n",
    "  threshold = mse_sorted[threshold_index]\n",
    "  plt.figure(figsize=(16,8)) \n",
    "  y_height, bins, patches = plt.hist(mse, bins=100)\n",
    "  # add a vertical line to the plot at the threshold value\n",
    "  plt.vlines(threshold, 0, y_height.max(), color=\"orange\", linewidth=2)\n",
    "  plt.show()\n",
    "  # identify the samples that have a mse greater than the threshold\n",
    "  y_results =  pd.DataFrame([1 if x > threshold else 0 for x in mse])\n",
    "  anomalies = X[mse > threshold]\n",
    "  accuracy = np.round(abs(len(anomalies)/sum(y ==1)),2)\n",
    "\n",
    "  print(f'Cutoff threshold is {threshold}' +\n",
    "        f' \\n Number of anomolies predicted {len(anomalies)}, actual {sum(y==1)}'+\n",
    "        f'\\n Accuracy of predicted amount {accuracy}%' )\n",
    "  return y_results"
   ]
  },
  {
   "cell_type": "code",
   "execution_count": 15,
   "metadata": {
    "id": "h0jcw8QMdwgj"
   },
   "outputs": [],
   "source": [
    "def con_matrix (y_true,y_pred):\n",
    "  '''\n",
    "  Description: Calculates the confusion matrix values.\n",
    "               Seperates these values and plots them with the predicted\n",
    "               percentage for each quadrant.\n",
    "               The classification report prints the metrics of the model.\n",
    "  ''' \n",
    "\n",
    "  # calculating True Neg, False Pos, False Neg, True Pos\n",
    "  cm = confusion_matrix(y_true, y_pred)\n",
    "  plt.figure(figsize=(16,8)) \n",
    "  #seperating values\n",
    "  TN, FP, FN, TP = cm.flatten()\n",
    "  group_names = ['True Neg','False Pos','False Neg','True Pos']\n",
    "  group_counts = [ TN, FP, FN, TP]\n",
    "  # Calculating the percentages of each quadrant\n",
    "  group_percentages = ['{0:.2%}'.format(value) for value in\n",
    "                     cm.flatten()/np.sum(cm)]\n",
    "  # Array of quardants' information\n",
    "  labels = [f'{v1}\\n{v2}\\n{v3} 'for v1, v2, v3 in\n",
    "          zip(group_names,group_counts,group_percentages)]\n",
    "  labels = np.asarray(labels).reshape(2,2)\n",
    "  #plotting heat map.\n",
    "  sns.heatmap(cm, annot=labels, fmt='')\n",
    "  plt.xlabel(\"Predicted\")\n",
    "  plt.ylabel(\"True\")\n",
    "  plt.show()\n",
    "  print(classification_report(y_true, y_pred))"
   ]
  },
  {
   "cell_type": "markdown",
   "metadata": {
    "id": "LtHW10hEyU2M"
   },
   "source": [
    "### Test using Training set\n"
   ]
  },
  {
   "cell_type": "code",
   "execution_count": 16,
   "metadata": {
    "colab": {
     "base_uri": "https://localhost:8080/",
     "height": 552
    },
    "id": "09thlCA2BH7J",
    "outputId": "3e9d0622-2181-4bd9-f6ed-1bbcc96b48be"
   },
   "outputs": [
    {
     "name": "stdout",
     "output_type": "stream",
     "text": [
      "1228/1228 [==============================] - 2s 1ms/step\n"
     ]
    },
    {
     "data": {
      "image/png": "[encoded data removed]",
      "text/plain": [
       "<Figure size 1600x800 with 1 Axes>"
      ]
     },
     "metadata": {},
     "output_type": "display_data"
    },
    {
     "name": "stdout",
     "output_type": "stream",
     "text": [
      "Cutoff threshold is 0.010221872574317023 \n",
      " Number of anomolies predicted 2749, actual 2791\n",
      " Accuracy of predicted amount 0.98%\n"
     ]
    }
   ],
   "source": [
    "y_results = show_predictions(autoencoder,X_train,y_train,.07)"
   ]
  },
  {
   "cell_type": "code",
   "execution_count": 17,
   "metadata": {
    "colab": {
     "base_uri": "https://localhost:8080/",
     "height": 653
    },
    "id": "U80qIfyH7Ggs",
    "outputId": "c2b96a2f-1061-48a6-f6cd-0602b57b7b77"
   },
   "outputs": [
    {
     "data": {
      "image/png": "[encoded data removed]",
      "text/plain": [
       "<Figure size 1600x800 with 2 Axes>"
      ]
     },
     "metadata": {},
     "output_type": "display_data"
    },
    {
     "name": "stdout",
     "output_type": "stream",
     "text": [
      "              precision    recall  f1-score   support\n",
      "\n",
      "         0.0       1.00      1.00      1.00     36486\n",
      "         1.0       0.96      0.95      0.96      2791\n",
      "\n",
      "    accuracy                           0.99     39277\n",
      "   macro avg       0.98      0.97      0.98     39277\n",
      "weighted avg       0.99      0.99      0.99     39277\n",
      "\n"
     ]
    }
   ],
   "source": [
    "con_matrix(y_train,y_results)"
   ]
  },
  {
   "cell_type": "markdown",
   "metadata": {
    "id": "aksnhUODzpEb"
   },
   "source": [
    "#### Using Test dataset"
   ]
  },
  {
   "cell_type": "code",
   "execution_count": 18,
   "metadata": {
    "colab": {
     "base_uri": "https://localhost:8080/",
     "height": 552
    },
    "id": "E-gjU1bkzET-",
    "outputId": "64c8473f-d3cb-45f8-ea49-0374b57b69c1"
   },
   "outputs": [
    {
     "name": "stdout",
     "output_type": "stream",
     "text": [
      "307/307 [==============================] - 1s 2ms/step\n"
     ]
    },
    {
     "data": {
      "image/png": "[encoded data removed]",
      "text/plain": [
       "<Figure size 1600x800 with 1 Axes>"
      ]
     },
     "metadata": {},
     "output_type": "display_data"
    },
    {
     "name": "stdout",
     "output_type": "stream",
     "text": [
      "Cutoff threshold is 0.017276280646298985 \n",
      " Number of anomolies predicted 687, actual 720\n",
      " Accuracy of predicted amount 0.95%\n"
     ]
    }
   ],
   "source": [
    "y_results = show_predictions(autoencoder,X_test,y_test,.07)"
   ]
  },
  {
   "cell_type": "code",
   "execution_count": 19,
   "metadata": {
    "colab": {
     "base_uri": "https://localhost:8080/",
     "height": 653
    },
    "id": "sLkRReZ9ePgH",
    "outputId": "5ef168e2-7886-443c-efa9-13897d2d0562"
   },
   "outputs": [
    {
     "data": {
      "image/png": "[encoded data removed]",
      "text/plain": [
       "<Figure size 1600x800 with 2 Axes>"
      ]
     },
     "metadata": {},
     "output_type": "display_data"
    },
    {
     "name": "stdout",
     "output_type": "stream",
     "text": [
      "              precision    recall  f1-score   support\n",
      "\n",
      "         0.0       1.00      1.00      1.00      9100\n",
      "         1.0       1.00      0.95      0.97       720\n",
      "\n",
      "    accuracy                           1.00      9820\n",
      "   macro avg       1.00      0.98      0.99      9820\n",
      "weighted avg       1.00      1.00      1.00      9820\n",
      "\n"
     ]
    }
   ],
   "source": [
    "con_matrix(y_test,y_results)"
   ]
  },
  {
   "cell_type": "markdown",
   "metadata": {
    "id": "nPejkEtBZOpb"
   },
   "source": [
    "### Task 4: VAE\n",
    "Changed the network to be a VAE. "
   ]
  },
  {
   "cell_type": "code",
   "execution_count": 20,
   "metadata": {
    "id": "8C-U3M2vbSay"
   },
   "outputs": [],
   "source": [
    "def sampling(args):\n",
    "    '''\n",
    "    Description: Using the inputted mean and log var, a random variable is\n",
    "    stored as epsilon.\n",
    "    The random variable is then used in conjuntion with the given mean and\n",
    "    log var to calculate the reparmeterization trick.\n",
    "    \n",
    "    '''\n",
    "    #Getting mean and log var from inputs\n",
    "    z_mean, z_log_var = args\n",
    "    #Calculating random variable from normal distribution\n",
    "    epsilon = K.random_normal(shape=(K.shape(z_mean)[0], latent_dim), mean=0., stddev=1.)\n",
    "    #returning the reparmetrization trick\n",
    "    return z_mean + K.exp(z_log_var) * epsilon"
   ]
  },
  {
   "cell_type": "markdown",
   "metadata": {
    "id": "3FD75HPxPGuc"
   },
   "source": [
    "## **Notes**\n",
    "**Model**\n",
    "The VAE has the same architecture of the AE. <br>\n",
    "It performs similar to the AE also.<br>\n",
    "The reparmeterization trick is the only additional layer.\n",
    "<br>\n",
    "<br>\n",
    "**Reparmeterization trick** <br>\n",
    "The reparmeterization trick provides the latent space with noise via the <br>selected random variable. This random variable is selected over a <br>normal distribution given the calculated mean and log var. This prevents <br>deterministic mapping, i.e. the same inputs generate the same outputs. By <br>incorparating noise into the equation the model can produce an output with <br>some variation. <br>\n",
    "This leads to a more generalized model."
   ]
  },
  {
   "cell_type": "code",
   "execution_count": 21,
   "metadata": {
    "colab": {
     "base_uri": "https://localhost:8080/"
    },
    "id": "xTH__cGIZcmg",
    "outputId": "912037a2-493c-48b8-b963-b848b4a718a5"
   },
   "outputs": [
    {
     "name": "stdout",
     "output_type": "stream",
     "text": [
      "Model: \"encoded\"\n",
      "_________________________________________________________________\n",
      " Layer (type)                Output Shape              Param #   \n",
      "=================================================================\n",
      " input_1 (InputLayer)        [(None, 9)]               0         \n",
      "                                                                 \n",
      " dense (Dense)               (None, 32)                320       \n",
      "                                                                 \n",
      " dropout (Dropout)           (None, 32)                0         \n",
      "                                                                 \n",
      " dense_1 (Dense)             (None, 16)                528       \n",
      "                                                                 \n",
      " dropout_1 (Dropout)         (None, 16)                0         \n",
      "                                                                 \n",
      " dense_2 (Dense)             (None, 8)                 136       \n",
      "                                                                 \n",
      " dropout_2 (Dropout)         (None, 8)                 0         \n",
      "                                                                 \n",
      " dense_3 (Dense)             (None, 2)                 18        \n",
      "                                                                 \n",
      "=================================================================\n",
      "Total params: 1,002\n",
      "Trainable params: 1,002\n",
      "Non-trainable params: 0\n",
      "_________________________________________________________________\n",
      "Model: \"decoded\"\n",
      "_________________________________________________________________\n",
      " Layer (type)                Output Shape              Param #   \n",
      "=================================================================\n",
      " z_sampling (InputLayer)     [(None, 2)]               0         \n",
      "                                                                 \n",
      " dense_14 (Dense)            (None, 32)                96        \n",
      "                                                                 \n",
      " dropout_9 (Dropout)         (None, 32)                0         \n",
      "                                                                 \n",
      " dense_15 (Dense)            (None, 32)                1056      \n",
      "                                                                 \n",
      " dropout_10 (Dropout)        (None, 32)                0         \n",
      "                                                                 \n",
      " dense_16 (Dense)            (None, 16)                528       \n",
      "                                                                 \n",
      " dropout_11 (Dropout)        (None, 16)                0         \n",
      "                                                                 \n",
      " dense_17 (Dense)            (None, 9)                 153       \n",
      "                                                                 \n",
      "=================================================================\n",
      "Total params: 1,833\n",
      "Trainable params: 1,833\n",
      "Non-trainable params: 0\n",
      "_________________________________________________________________\n",
      "Model: \"model_1\"\n",
      "_________________________________________________________________\n",
      " Layer (type)                Output Shape              Param #   \n",
      "=================================================================\n",
      " input_3 (InputLayer)        [(None, 9)]               0         \n",
      "                                                                 \n",
      " encoded (Functional)        (None, 2)                 1002      \n",
      "                                                                 \n",
      " decoded (Functional)        (None, 9)                 1833      \n",
      "                                                                 \n",
      "=================================================================\n",
      "Total params: 2,835\n",
      "Trainable params: 2,835\n",
      "Non-trainable params: 0\n",
      "_________________________________________________________________\n"
     ]
    }
   ],
   "source": [
    "# Define the Encoder\n",
    "latent_dim= 2\n",
    "encoder_input = Input(shape=(X_train.shape[1],))  \n",
    "\n",
    "x = Dense(32, activation='relu', kernel_initializer='he_normal')(encoder_input)\n",
    "x = Dropout(.2)(x)\n",
    "x = Dense(16, activation='relu', kernel_initializer='he_normal')(x)\n",
    "x = Dropout(.2)(x)\n",
    "x = Dense(8, activation='relu', kernel_initializer='he_normal')(x)\n",
    "x = Dropout(.2)(x)\n",
    "latent = Dense(latent_dim,activation='relu', kernel_initializer='he_normal')(x)\n",
    "\n",
    "# reparameterization trick\n",
    "z_mean = Dense(latent_dim)(latent)\n",
    "z_log_var = Dense(latent_dim)(latent)\n",
    "#Latent representation\n",
    "z = Lambda(sampling, output_shape=(latent_dim,))([z_mean, z_log_var])\n",
    "\n",
    "encoder = Model(encoder_input, [z_mean, z_log_var, z], name='encoder')\n",
    "encoded.summary()\n",
    "\n",
    "# This is the decoder\n",
    "latent_inputs = Input(shape=(latent_dim,), name='z_sampling')\n",
    "x = Dense(32,activation='relu', kernel_initializer='he_normal')(latent_inputs)\n",
    "x = Dropout(.2)(x)\n",
    "x = Dense(32,activation='relu',kernel_initializer='he_normal')(x)\n",
    "x = Dropout(.2)(x)\n",
    "x = Dense(16,activation='relu',kernel_initializer='he_normal')(x)\n",
    "x = Dropout(.2)(x)\n",
    "rec = Dense(9,activation='linear', kernel_initializer='he_normal')(x)\n",
    "\n",
    "decoded = Model(latent_inputs,rec,name='decoded')\n",
    "decoded.summary()\n",
    "\n",
    "decoder_output = decoded(encoded(encoder_input))\n",
    "#Autoencoder Model\n",
    "vae = Model(encoder_input,decoder_output)\n",
    "vae.summary()"
   ]
  },
  {
   "cell_type": "code",
   "execution_count": 22,
   "metadata": {
    "id": "N-X0Wo1qfmaP"
   },
   "outputs": [],
   "source": [
    "#Reconstruction loss calculated using mse\n",
    "vae_reconstruction_loss = mse(encoder_input,decoder_output)\n",
    "vae_reconstruction_loss *= 9\n",
    "#Calculating the KL loss\n",
    "kl_loss = 1 + z_log_var - K.square(z_mean) - K.exp(z_log_var)\n",
    "kl_loss = K.sum(kl_loss, axis=-1)\n",
    "kl_loss *= -0.5\n",
    "# Adding vae loss, the mean of the reconstruction + KL loss\n",
    "vae_loss = K.mean(vae_reconstruction_loss + kl_loss)\n",
    "vae.add_loss(vae_loss)"
   ]
  },
  {
   "cell_type": "code",
   "execution_count": 23,
   "metadata": {
    "colab": {
     "base_uri": "https://localhost:8080/"
    },
    "id": "JfysWqylhYFB",
    "outputId": "ef469e5a-d27a-4ecd-e082-f3a7a4236e90"
   },
   "outputs": [
    {
     "name": "stdout",
     "output_type": "stream",
     "text": [
      "Epoch 1/400\n",
      "307/307 [==============================] - 3s 4ms/step - loss: 1.4298 - val_loss: 0.6793\n",
      "Epoch 2/400\n",
      "307/307 [==============================] - 1s 3ms/step - loss: 0.1338 - val_loss: 0.0347\n",
      "Epoch 3/400\n",
      "307/307 [==============================] - 1s 4ms/step - loss: 0.0485 - val_loss: 0.0343\n",
      "Epoch 4/400\n",
      "307/307 [==============================] - 1s 4ms/step - loss: 0.0448 - val_loss: 0.0338\n",
      "Epoch 5/400\n",
      "307/307 [==============================] - 1s 4ms/step - loss: 0.0429 - val_loss: 0.0340\n",
      "Epoch 6/400\n",
      "307/307 [==============================] - 1s 4ms/step - loss: 0.0412 - val_loss: 0.0340\n",
      "Epoch 7/400\n",
      "307/307 [==============================] - 1s 4ms/step - loss: 0.0401 - val_loss: 0.0338\n",
      "Epoch 8/400\n",
      "307/307 [==============================] - 1s 4ms/step - loss: 0.0389 - val_loss: 0.0337\n",
      "Epoch 9/400\n",
      "307/307 [==============================] - 1s 4ms/step - loss: 0.0380 - val_loss: 0.0337\n",
      "Epoch 10/400\n",
      "307/307 [==============================] - 1s 4ms/step - loss: 0.0371 - val_loss: 0.0337\n",
      "Epoch 11/400\n",
      "307/307 [==============================] - 1s 4ms/step - loss: 0.0363 - val_loss: 0.0338\n",
      "Epoch 12/400\n",
      "307/307 [==============================] - 1s 4ms/step - loss: 0.0355 - val_loss: 0.0336\n",
      "Epoch 13/400\n",
      "307/307 [==============================] - 1s 4ms/step - loss: 0.0349 - val_loss: 0.0337\n",
      "Epoch 14/400\n",
      "307/307 [==============================] - 1s 4ms/step - loss: 0.0343 - val_loss: 0.0336\n",
      "Epoch 15/400\n",
      "307/307 [==============================] - 1s 4ms/step - loss: 0.0339 - val_loss: 0.0336\n",
      "Epoch 16/400\n",
      "307/307 [==============================] - 1s 4ms/step - loss: 0.0336 - val_loss: 0.0337\n",
      "Epoch 17/400\n",
      "307/307 [==============================] - 1s 4ms/step - loss: 0.0334 - val_loss: 0.0336\n",
      "Epoch 18/400\n",
      "307/307 [==============================] - 1s 3ms/step - loss: 0.0333 - val_loss: 0.0336\n",
      "Epoch 19/400\n",
      "307/307 [==============================] - 1s 4ms/step - loss: 0.0332 - val_loss: 0.0336\n",
      "Epoch 20/400\n",
      "307/307 [==============================] - 1s 4ms/step - loss: 0.0331 - val_loss: 0.0336\n",
      "Epoch 21/400\n",
      "307/307 [==============================] - 1s 4ms/step - loss: 0.0331 - val_loss: 0.0336\n",
      "Epoch 22/400\n",
      "307/307 [==============================] - 1s 4ms/step - loss: 0.0330 - val_loss: 0.0336\n",
      "Epoch 23/400\n",
      "307/307 [==============================] - 1s 4ms/step - loss: 0.0330 - val_loss: 0.0336\n",
      "Epoch 24/400\n",
      "307/307 [==============================] - 1s 4ms/step - loss: 0.0330 - val_loss: 0.0336\n",
      "Epoch 25/400\n",
      "307/307 [==============================] - 1s 4ms/step - loss: 0.0330 - val_loss: 0.0336\n",
      "Epoch 26/400\n",
      "307/307 [==============================] - 1s 3ms/step - loss: 0.0330 - val_loss: 0.0336\n",
      "Epoch 27/400\n",
      "307/307 [==============================] - 1s 4ms/step - loss: 0.0330 - val_loss: 0.0336\n",
      "Epoch 28/400\n",
      "307/307 [==============================] - 1s 3ms/step - loss: 0.0330 - val_loss: 0.0336\n",
      "Epoch 29/400\n",
      "307/307 [==============================] - 1s 4ms/step - loss: 0.0330 - val_loss: 0.0336\n",
      "Epoch 30/400\n",
      "307/307 [==============================] - 1s 4ms/step - loss: 0.0330 - val_loss: 0.0336\n",
      "Epoch 31/400\n",
      "307/307 [==============================] - 1s 4ms/step - loss: 0.0330 - val_loss: 0.0336\n",
      "Epoch 32/400\n",
      "307/307 [==============================] - 1s 4ms/step - loss: 0.0330 - val_loss: 0.0336\n",
      "Epoch 33/400\n",
      "307/307 [==============================] - 1s 4ms/step - loss: 0.0330 - val_loss: 0.0336\n",
      "Epoch 34/400\n",
      "307/307 [==============================] - 1s 4ms/step - loss: 0.0330 - val_loss: 0.0337\n",
      "Epoch 35/400\n",
      "307/307 [==============================] - 1s 4ms/step - loss: 0.0330 - val_loss: 0.0336\n"
     ]
    },
    {
     "data": {
      "text/plain": [
       "<keras.callbacks.History at 0x2045673b6a0>"
      ]
     },
     "execution_count": 23,
     "metadata": {},
     "output_type": "execute_result"
    }
   ],
   "source": [
    "#Early stop\n",
    "early_stopping = EarlyStopping(monitor='val_loss', patience=20, restore_best_weights=True)\n",
    "\n",
    "# train the autoencoder\n",
    "vae.compile(optimizer= Adam(learning_rate=0.001))\n",
    "vae.fit(X_train, X_train,\n",
    "                epochs=400,\n",
    "                batch_size=128,\n",
    "                shuffle=True,\n",
    "                validation_data=(X_test, X_test),\n",
    "                callbacks=[early_stopping])"
   ]
  },
  {
   "cell_type": "markdown",
   "metadata": {
    "id": "zHKkKSW5efai"
   },
   "source": [
    "### Predictions using train dataset"
   ]
  },
  {
   "cell_type": "code",
   "execution_count": 24,
   "metadata": {
    "colab": {
     "base_uri": "https://localhost:8080/",
     "height": 552
    },
    "id": "UMizkOMZ_toy",
    "outputId": "03b22adf-bb5b-4eb6-a8ad-462af858d49a"
   },
   "outputs": [
    {
     "name": "stdout",
     "output_type": "stream",
     "text": [
      "1228/1228 [==============================] - 2s 2ms/step\n"
     ]
    },
    {
     "data": {
      "image/png": "[encoded data removed]",
      "text/plain": [
       "<Figure size 1600x800 with 1 Axes>"
      ]
     },
     "metadata": {},
     "output_type": "display_data"
    },
    {
     "name": "stdout",
     "output_type": "stream",
     "text": [
      "Cutoff threshold is 0.010104867054898182 \n",
      " Number of anomolies predicted 2749, actual 2791\n",
      " Accuracy of predicted amount 0.98%\n"
     ]
    }
   ],
   "source": [
    "y_results = show_predictions(vae,X_train,y_train,.07)"
   ]
  },
  {
   "cell_type": "code",
   "execution_count": 25,
   "metadata": {
    "colab": {
     "base_uri": "https://localhost:8080/",
     "height": 653
    },
    "id": "LUL-NK81e4T3",
    "outputId": "2c2e6cfb-9683-4ce3-c7e9-ec137b6835af"
   },
   "outputs": [
    {
     "data": {
      "image/png": "[encoded data removed]",
      "text/plain": [
       "<Figure size 1600x800 with 2 Axes>"
      ]
     },
     "metadata": {},
     "output_type": "display_data"
    },
    {
     "name": "stdout",
     "output_type": "stream",
     "text": [
      "              precision    recall  f1-score   support\n",
      "\n",
      "         0.0       1.00      1.00      1.00     36486\n",
      "         1.0       0.96      0.95      0.96      2791\n",
      "\n",
      "    accuracy                           0.99     39277\n",
      "   macro avg       0.98      0.97      0.98     39277\n",
      "weighted avg       0.99      0.99      0.99     39277\n",
      "\n"
     ]
    }
   ],
   "source": [
    "con_matrix(y_train,y_results)"
   ]
  },
  {
   "cell_type": "code",
   "execution_count": 26,
   "metadata": {
    "colab": {
     "base_uri": "https://localhost:8080/",
     "height": 552
    },
    "id": "KLK48_FUe-ZE",
    "outputId": "ec78a032-2ebf-478b-b7a4-fe938970633f"
   },
   "outputs": [
    {
     "name": "stdout",
     "output_type": "stream",
     "text": [
      "307/307 [==============================] - 0s 1ms/step\n"
     ]
    },
    {
     "data": {
      "image/png": "[encoded data removed]",
      "text/plain": [
       "<Figure size 1600x800 with 1 Axes>"
      ]
     },
     "metadata": {},
     "output_type": "display_data"
    },
    {
     "name": "stdout",
     "output_type": "stream",
     "text": [
      "Cutoff threshold is 0.017344286555293142 \n",
      " Number of anomolies predicted 687, actual 720\n",
      " Accuracy of predicted amount 0.95%\n"
     ]
    }
   ],
   "source": [
    "y_results = show_predictions(vae,X_test,y_test,.07)"
   ]
  },
  {
   "cell_type": "code",
   "execution_count": 27,
   "metadata": {
    "colab": {
     "base_uri": "https://localhost:8080/",
     "height": 653
    },
    "id": "h4tZsQU-fHxs",
    "outputId": "27c79526-9638-4983-bfd7-f5eb1ae33f3b"
   },
   "outputs": [
    {
     "data": {
      "image/png": "[encoded data removed]",
      "text/plain": [
       "<Figure size 1600x800 with 2 Axes>"
      ]
     },
     "metadata": {},
     "output_type": "display_data"
    },
    {
     "name": "stdout",
     "output_type": "stream",
     "text": [
      "              precision    recall  f1-score   support\n",
      "\n",
      "         0.0       1.00      1.00      1.00      9100\n",
      "         1.0       1.00      0.95      0.97       720\n",
      "\n",
      "    accuracy                           1.00      9820\n",
      "   macro avg       1.00      0.98      0.99      9820\n",
      "weighted avg       1.00      1.00      1.00      9820\n",
      "\n"
     ]
    }
   ],
   "source": [
    "con_matrix(y_test,y_results)"
   ]
  },
  {
   "cell_type": "markdown",
   "metadata": {
    "id": "GIW-4IdFZN5D"
   },
   "source": [
    "## Conclusion\n",
    "The accuracy was misleading for the AE and VAE.<br>\n",
    "When using the classification report, the performance of the models was <br>revealed.<br>\n",
    "The finalized models both have the same architecture. With approximately 2900 <br>params. This provided robust models, which is needed with a random data <br>set. Sometimes the precision, recall and f1 score can reach as low as .79 <br>and up to .96 depending on the data split. \n",
    "<br>\n",
    "<br>\n",
    "When the layers were increased to approx. 5000 the model didn't perform better <br>and in some cases worse. It was noted that the VAE was more sensitive to <br>the increase and performed poorly while the AE performed similar to the <br>optimal model.\n",
    "<br>\n",
    "<br>\n",
    "Less layers did perform just as well as the current model, but when the data <br>split unfavourably the lessening layers saw a drop to as low as .06  on the anonalies for precision, recall, and f1 score.\n",
    "<br>\n",
    "<br>\n",
    "Therefore around the 3,000 params mark with precautions taken for overfitting <br>and local minimas in terms of kernel optimizers and dropout layers seemed <br>to give the best overall model.\n",
    "<br>\n",
    "<br>\n",
    "**Comparison**<br>\n",
    "The AE generally outperformed the VAE which is uncommon as VAE's use the <br>reparmeterization to improve generalization. This happened when the layers <br>were adjusted (increased and decreased) and unfavourable data splits <br> occured. Reasoning from this outcome and the model architecture, the small <br>latent space might be the cause of this, with a dimension of 2. Another <br>possibilty is that the VAE is suffering from a irregular latent space while <br>AE is better able to combat this, but this is less likely given the data has only 9 inputs.\n",
    "\n"
   ]
  },
  {
   "cell_type": "code",
   "execution_count": null,
   "metadata": {
    "id": "MDhYwGNzsXPC"
   },
   "outputs": [],
   "source": []
  }
 ],
 "metadata": {
  "accelerator": "GPU",
  "colab": {
   "provenance": []
  },
  "gpuClass": "premium",
  "kernelspec": {
   "display_name": "Python 3 (ipykernel)",
   "language": "python",
   "name": "python3"
  },
  "language_info": {
   "codemirror_mode": {
    "name": "ipython",
    "version": 3
   },
   "file_extension": ".py",
   "mimetype": "text/x-python",
   "name": "python",
   "nbconvert_exporter": "python",
   "pygments_lexer": "ipython3",
   "version": "3.9.13"
  },
  "latex_envs": {
   "LaTeX_envs_menu_present": true,
   "autoclose": false,
   "autocomplete": true,
   "bibliofile": "biblio.bib",
   "cite_by": "apalike",
   "current_citInitial": 1,
   "eqLabelWithNumbers": true,
   "eqNumInitial": 1,
   "hotkeys": {
    "equation": "Ctrl-E",
    "itemize": "Ctrl-I"
   },
   "labels_anchors": false,
   "latex_user_defs": false,
   "report_style_numbering": false,
   "user_envs_cfg": false
  }
 },
 "nbformat": 4,
 "nbformat_minor": 1
}
